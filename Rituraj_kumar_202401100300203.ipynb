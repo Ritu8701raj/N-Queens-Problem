{
  "nbformat": 4,
  "nbformat_minor": 0,
  "metadata": {
    "colab": {
      "provenance": []
    },
    "kernelspec": {
      "name": "python3",
      "display_name": "Python 3"
    },
    "language_info": {
      "name": "python"
    }
  },
  "cells": [
    {
      "cell_type": "code",
      "source": [
        "def print_solution(board):\n",
        "    \"\"\"Prints the chessboard with queens represented as 'Q' and empty spaces as '.'\"\"\"\n",
        "    for row in board:\n",
        "        print(\" \".join(\"Q\" if col else \".\" for col in row))\n",
        "    print(\"\\n\")\n",
        "\n",
        "def is_safe(board, row, col, n):\n",
        "    \"\"\"Checks if a queen can be placed at board[row][col] without being attacked.\"\"\"\n",
        "\n",
        "    # Check column for any existing queen\n",
        "    for i in range(row):\n",
        "        if board[i][col]:\n",
        "            return False\n",
        "\n",
        "    # Check upper-left diagonal for any existing queen\n",
        "    for i, j in zip(range(row, -1, -1), range(col, -1, -1)):\n",
        "        if board[i][j]:\n",
        "            return False\n",
        "\n",
        "    # Check upper-right diagonal for any existing queen\n",
        "    for i, j in zip(range(row, -1, -1), range(col, n)):\n",
        "        if board[i][j]:\n",
        "            return False\n",
        "\n",
        "    return True\n",
        "\n",
        "def solve_n_queens(board, row, n, solutions):\n",
        "    \"\"\"Uses backtracking to place queens safely on the board.\"\"\"\n",
        "\n",
        "    # Base case: If all queens are placed, add solution to list\n",
        "    if row == n:\n",
        "        solutions.append([row[:] for row in board])\n",
        "        print_solution(board)  # Print the valid board configuration\n",
        "        return\n",
        "\n",
        "    # Try placing a queen in each column of the current row\n",
        "    for col in range(n):\n",
        "        if is_safe(board, row, col, n):  # Check if placement is safe\n",
        "            board[row][col] = 1  # Place the queen\n",
        "            solve_n_queens(board, row + 1, n, solutions)  # Recur to place the next queen\n",
        "            board[row][col] = 0  # Backtrack: Remove the queen and try next column\n",
        "\n",
        "def n_queens(n):\n",
        "    \"\"\"Initializes the chessboard and starts the backtracking algorithm.\"\"\"\n",
        "    board = [[0] * n for _ in range(n)]  # Create an n x n board initialized with 0\n",
        "    solutions = []  # List to store all valid solutions\n",
        "    solve_n_queens(board, 0, n, solutions)  # Start placing queens from the first row\n",
        "    return solutions\n",
        "\n",
        "if __name__ == \"__main__\":\n",
        "    n = 4  # Change this value to solve for different board sizes\n",
        "    solutions = n_queens(n)  # Solve the N-Queens problem\n",
        "    print(f\"Total solutions for {n}-Queens: {len(solutions)}\")  # Print the total number of solutions"
      ],
      "metadata": {
        "colab": {
          "base_uri": "https://localhost:8080/"
        },
        "id": "RVr4GCmLnmkj",
        "outputId": "8e80c165-756c-4a5e-a332-af5b228b9471"
      },
      "execution_count": 2,
      "outputs": [
        {
          "output_type": "stream",
          "name": "stdout",
          "text": [
            ". Q . .\n",
            ". . . Q\n",
            "Q . . .\n",
            ". . Q .\n",
            "\n",
            "\n",
            ". . Q .\n",
            "Q . . .\n",
            ". . . Q\n",
            ". Q . .\n",
            "\n",
            "\n",
            "Total solutions for 4-Queens: 2\n"
          ]
        }
      ]
    }
  ]
}